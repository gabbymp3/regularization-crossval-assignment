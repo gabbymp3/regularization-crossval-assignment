{
 "cells": [
  {
   "cell_type": "raw",
   "id": "c13f3380-cf49-449b-b94d-ffdc0712b031",
   "metadata": {
    "vscode": {
     "languageId": "raw"
    }
   },
   "source": [
    "---\n",
    "title: \"Regularization and Cross-validation 2\"\n",
    "format: \n",
    "  html:\n",
    "    toc: true\n",
    "    toc-title: Contents\n",
    "    code-fold: show\n",
    "    embed-resources: true\n",
    "jupyter: python3\n",
    "---"
   ]
  },
  {
   "cell_type": "code",
   "execution_count": 112,
   "id": "d4f9cb00-585a-4896-8bed-913fa5869e30",
   "metadata": {},
   "outputs": [],
   "source": [
    "import pandas as pd\n",
    "import numpy as np\n",
    "import matplotlib.pyplot as plt\n",
    "import seaborn as sns\n",
    "import statsmodels.formula.api as smf\n",
    "\n",
    "from sklearn.model_selection import cross_val_score, cross_val_predict, cross_validate, train_test_split\n",
    "from sklearn.linear_model import Ridge, Lasso, LogisticRegression # NOT the CV objects, models themselves\n",
    "from sklearn.preprocessing import StandardScaler\n",
    "from sklearn.metrics import accuracy_score, recall_score, mean_absolute_error, roc_auc_score\n",
    "from statsmodels.stats.outliers_influence import variance_inflation_factor\n",
    "from statsmodels.tools.tools import add_constant"
   ]
  },
  {
   "cell_type": "markdown",
   "id": "d4da3695-295a-4543-8f1e-b1adead8fac9",
   "metadata": {},
   "source": [
    "## 1) Cross-validation for a Regression Task"
   ]
  },
  {
   "cell_type": "markdown",
   "id": "cd174e6d-d4b1-4df2-b86e-dd7ac528e555",
   "metadata": {},
   "source": [
    "In this question, you will focus on lower-level cross-validation tools for a regression task.\n",
    "\n",
    "Read the data from **soc_ind.csv**. Each observation is a country and each variable is a social indicator. The variable names should be self-explanatory."
   ]
  },
  {
   "cell_type": "code",
   "execution_count": 116,
   "id": "ab9b5745-3c9e-4582-b194-cbf05c1e5210",
   "metadata": {},
   "outputs": [
    {
     "data": {
      "text/html": [
       "<div>\n",
       "<style scoped>\n",
       "    .dataframe tbody tr th:only-of-type {\n",
       "        vertical-align: middle;\n",
       "    }\n",
       "\n",
       "    .dataframe tbody tr th {\n",
       "        vertical-align: top;\n",
       "    }\n",
       "\n",
       "    .dataframe thead th {\n",
       "        text-align: right;\n",
       "    }\n",
       "</style>\n",
       "<table border=\"1\" class=\"dataframe\">\n",
       "  <thead>\n",
       "    <tr style=\"text-align: right;\">\n",
       "      <th></th>\n",
       "      <th>Index</th>\n",
       "      <th>continent</th>\n",
       "      <th>geographic_location</th>\n",
       "      <th>country</th>\n",
       "      <th>economicActivityFemale</th>\n",
       "      <th>economicActivityMale</th>\n",
       "      <th>gdpPerCapita</th>\n",
       "      <th>illiteracyFemale</th>\n",
       "      <th>illiteracyMale</th>\n",
       "      <th>infantMortality</th>\n",
       "      <th>lifeFemale</th>\n",
       "      <th>lifeMale</th>\n",
       "    </tr>\n",
       "  </thead>\n",
       "  <tbody>\n",
       "    <tr>\n",
       "      <th>0</th>\n",
       "      <td>1</td>\n",
       "      <td>Asia</td>\n",
       "      <td>Western Asia</td>\n",
       "      <td>Yemen</td>\n",
       "      <td>1.9</td>\n",
       "      <td>80.6</td>\n",
       "      <td>1924</td>\n",
       "      <td>69.552</td>\n",
       "      <td>32.406</td>\n",
       "      <td>80</td>\n",
       "      <td>58.4</td>\n",
       "      <td>57.4</td>\n",
       "    </tr>\n",
       "    <tr>\n",
       "      <th>1</th>\n",
       "      <td>2</td>\n",
       "      <td>Asia</td>\n",
       "      <td>Western Asia</td>\n",
       "      <td>Saudi Arabia</td>\n",
       "      <td>6.9</td>\n",
       "      <td>78.8</td>\n",
       "      <td>48099</td>\n",
       "      <td>49.800</td>\n",
       "      <td>28.500</td>\n",
       "      <td>23</td>\n",
       "      <td>73.4</td>\n",
       "      <td>69.9</td>\n",
       "    </tr>\n",
       "    <tr>\n",
       "      <th>2</th>\n",
       "      <td>3</td>\n",
       "      <td>Asia</td>\n",
       "      <td>Southern Asia</td>\n",
       "      <td>Afghanistan</td>\n",
       "      <td>7.2</td>\n",
       "      <td>87.5</td>\n",
       "      <td>2474</td>\n",
       "      <td>85.000</td>\n",
       "      <td>52.800</td>\n",
       "      <td>154</td>\n",
       "      <td>46.0</td>\n",
       "      <td>45.0</td>\n",
       "    </tr>\n",
       "    <tr>\n",
       "      <th>3</th>\n",
       "      <td>4</td>\n",
       "      <td>Africa</td>\n",
       "      <td>Northern Africa</td>\n",
       "      <td>Algeria</td>\n",
       "      <td>7.8</td>\n",
       "      <td>76.4</td>\n",
       "      <td>11433</td>\n",
       "      <td>51.000</td>\n",
       "      <td>26.100</td>\n",
       "      <td>44</td>\n",
       "      <td>70.3</td>\n",
       "      <td>67.5</td>\n",
       "    </tr>\n",
       "    <tr>\n",
       "      <th>4</th>\n",
       "      <td>5</td>\n",
       "      <td>Asia</td>\n",
       "      <td>Southern Asia</td>\n",
       "      <td>Iran</td>\n",
       "      <td>9.9</td>\n",
       "      <td>79.8</td>\n",
       "      <td>13513</td>\n",
       "      <td>40.700</td>\n",
       "      <td>22.300</td>\n",
       "      <td>39</td>\n",
       "      <td>70.0</td>\n",
       "      <td>68.5</td>\n",
       "    </tr>\n",
       "  </tbody>\n",
       "</table>\n",
       "</div>"
      ],
      "text/plain": [
       "   Index continent geographic_location       country  economicActivityFemale  \\\n",
       "0      1      Asia        Western Asia         Yemen                     1.9   \n",
       "1      2      Asia        Western Asia  Saudi Arabia                     6.9   \n",
       "2      3      Asia       Southern Asia   Afghanistan                     7.2   \n",
       "3      4    Africa     Northern Africa       Algeria                     7.8   \n",
       "4      5      Asia       Southern Asia          Iran                     9.9   \n",
       "\n",
       "   economicActivityMale  gdpPerCapita  illiteracyFemale  illiteracyMale  \\\n",
       "0                  80.6          1924            69.552          32.406   \n",
       "1                  78.8         48099            49.800          28.500   \n",
       "2                  87.5          2474            85.000          52.800   \n",
       "3                  76.4         11433            51.000          26.100   \n",
       "4                  79.8         13513            40.700          22.300   \n",
       "\n",
       "   infantMortality  lifeFemale  lifeMale  \n",
       "0               80        58.4      57.4  \n",
       "1               23        73.4      69.9  \n",
       "2              154        46.0      45.0  \n",
       "3               44        70.3      67.5  \n",
       "4               39        70.0      68.5  "
      ]
     },
     "execution_count": 116,
     "metadata": {},
     "output_type": "execute_result"
    }
   ],
   "source": [
    "data = pd.read_csv('soc_ind.csv')\n",
    "data.head()"
   ]
  },
  {
   "cell_type": "markdown",
   "id": "576ecbc4-2d13-4a8b-96a5-f4f8e6c1ea60",
   "metadata": {},
   "source": [
    "### a)\n",
    "\n",
    "Create two [density](https://seaborn.pydata.org/generated/seaborn.kdeplot.html) plots: One with the `gdpPerCapita` variable and one with its log-transformed version. Which one should be used as the response for a regression task? Justify your answer. **(3 points)**\n",
    "\n",
    "**Note:** Use `np.log`"
   ]
  },
  {
   "cell_type": "code",
   "execution_count": 119,
   "id": "80742bc8-1349-4689-86b4-797003491690",
   "metadata": {},
   "outputs": [
    {
     "data": {
      "text/plain": [
       "Text(0.5, 0, 'log (GDP per Capita)')"
      ]
     },
     "execution_count": 119,
     "metadata": {},
     "output_type": "execute_result"
    },
    {
     "data": {
      "image/png": "[encoded data removed]",
      "text/plain": [
       "<Figure size 1200x500 with 2 Axes>"
      ]
     },
     "metadata": {},
     "output_type": "display_data"
    }
   ],
   "source": [
    "plt.figure(figsize=(12, 5))\n",
    "plt.subplot(1, 2, 1)\n",
    "sns.kdeplot(data.gdpPerCapita, fill=True)\n",
    "plt.xlabel('GDP per Capita')\n",
    "\n",
    "\n",
    "plt.subplot(1, 2, 2)\n",
    "sns.kdeplot(np.log(data.gdpPerCapita), fill=True)\n",
    "plt.xlabel('log (GDP per Capita)')"
   ]
  },
  {
   "cell_type": "markdown",
   "id": "80366611-9578-4a27-9038-a58bf6150cd3",
   "metadata": {},
   "source": [
    "Log-transformed GDP per capita should be used at the response variable since it has a more balanced distribution. The log distribution is more similar to a normal distribution, so it may be more informative of the underlying trend."
   ]
  },
  {
   "cell_type": "markdown",
   "id": "fc5feaec-f50b-4681-9596-792d79e432bc",
   "metadata": {},
   "source": [
    "### b)\n",
    "\n",
    "Create the proper response variable based on your answer in Part a. The predictors are the rest of the variables except `Index`, `geographic_location`, and `country`. Create a predictor matrix accordingly. **(2 points)**\n",
    "\n",
    "Using the `train_test_split` function from `sklearn.model_selection`, create the training and the test data. (You may need to read its [documentation](https://scikit-learn.org/stable/modules/generated/sklearn.model_selection.train_test_split.html).) Use a 80%-20% train-test split and use `random_state=2` for reproducible results. **(2 points)**"
   ]
  },
  {
   "cell_type": "code",
   "execution_count": 123,
   "id": "e01095f1-8275-4b60-99a0-fd9aa03474e2",
   "metadata": {},
   "outputs": [],
   "source": [
    "X = data.drop(['Index','geographic_location','country','gdpPerCapita'],axis=1)\n",
    "y = np.log(data['gdpPerCapita'])\n",
    "X_train, X_test, y_train, y_test = train_test_split(X, y, test_size=0.2, random_state=2)"
   ]
  },
  {
   "cell_type": "markdown",
   "id": "d7ccac8f-b4f6-4d89-9729-902d18a75974",
   "metadata": {},
   "source": [
    "### c)\n",
    "\n",
    "One-hot-encode and scale (in this order) both the training and the test data. \n",
    "\n",
    "**Note:** Use `drop_first=True`.\n",
    "\n",
    "**(2 points)**"
   ]
  },
  {
   "cell_type": "code",
   "execution_count": 126,
   "id": "897d9240-4be7-42d9-b01b-c7c3c0905770",
   "metadata": {},
   "outputs": [],
   "source": [
    "# OHE\n",
    "X_train = pd.get_dummies(X_train, drop_first=True)\n",
    "X_test = pd.get_dummies(X_test,drop_first=True)\n",
    "\n",
    "# scaler\n",
    "scaler = StandardScaler()\n",
    "scaler.fit(X_train)\n",
    "X_train_scaled = scaler.transform(X_train)\n",
    "X_test_scaled = scaler.transform(X_test)"
   ]
  },
  {
   "cell_type": "markdown",
   "id": "85c68c24-e85d-42bc-b60b-601b8e914f59",
   "metadata": {},
   "source": [
    "### d)\n",
    "\n",
    "Tune a ridge regression model with the following specifications:\n",
    "\n",
    "- A hyperparameter vector of `np.logspace(2,0.5,200)`\n",
    "- 10-fold cross-validation (CV)\n",
    "- `neg_mean_absolute_error` as the scoring metric\n",
    "\n",
    "Save all your CV scores in a numpy array. **You must use `cross_val_score` (properly) for credit.**\n",
    "\n",
    "**(5 points)**"
   ]
  },
  {
   "cell_type": "code",
   "execution_count": 129,
   "id": "54173e9d-0ebf-4581-b499-5725feef9de2",
   "metadata": {},
   "outputs": [],
   "source": [
    "alphas = np.logspace(2,0.5,200)\n",
    "\n",
    "cv_scores = []\n",
    "\n",
    "\n",
    "for alpha in alphas:\n",
    "    model = Ridge(alpha=alpha)\n",
    "    cv_score = cross_val_score(model, X_train_scaled, y_train, cv = 10, scoring = 'neg_mean_absolute_error')\n",
    "    cv_scores.append(cv_score)\n",
    "    \n",
    "avg_cv_results = -np.array(cv_scores).mean(axis=1)\n",
    "\n"
   ]
  },
  {
   "cell_type": "markdown",
   "id": "ccd167cc-9948-4186-b3b4-cdb50f7e69e3",
   "metadata": {},
   "source": [
    "### e)\n",
    "\n",
    "Using the numpy array created in Part d, find the tuned hyperparameter value and the best average CV score that corresponds to it. **(2 points)**"
   ]
  },
  {
   "cell_type": "code",
   "execution_count": 132,
   "id": "1dfd6b2b-6497-41cf-a1e8-364eaffc5bec",
   "metadata": {},
   "outputs": [
    {
     "name": "stdout",
     "output_type": "stream",
     "text": [
      "Best avg cv performance: 0.48459068222504875\n",
      "Best hyperparam: 8.959036511956615\n"
     ]
    }
   ],
   "source": [
    "print('Best avg cv performance:', np.min(avg_cv_results))\n",
    "print('Best hyperparam:', alphas[np.argmin(avg_cv_results)])\n",
    "\n"
   ]
  },
  {
   "cell_type": "markdown",
   "id": "2a56ad00-4ac7-41ea-a22b-36db51b3f3da",
   "metadata": {},
   "source": [
    "### f)\n",
    "\n",
    "Interpret the best average CV score in Part e. Is it actually the average error in GDP per capita values? What seems to be the issue with it? **(2 points)**"
   ]
  },
  {
   "cell_type": "markdown",
   "id": "f61d82d1-2357-4f1b-b2cd-8fe3d66a5302",
   "metadata": {},
   "source": [
    "The best average CV score is extremely low, around 0.5. This is the average error in log GDP per capita values, so it is misleadingly low."
   ]
  },
  {
   "cell_type": "markdown",
   "id": "2ea77a4a-b7da-43c4-853d-8eaf4e2e1067",
   "metadata": {},
   "source": [
    "### g)\n",
    "\n",
    "Train a final ridge regression model with the tuned hyperparameter value found in Part e. Return the test Mean Absolute Error (MAE). **You must return the test MAE of the actual GDP per capita values for credit.** **(3 points)**"
   ]
  },
  {
   "cell_type": "code",
   "execution_count": 137,
   "id": "730f9147-9751-4539-883c-2ba32872dcf8",
   "metadata": {},
   "outputs": [
    {
     "name": "stdout",
     "output_type": "stream",
     "text": [
      "Test MAE: 17621.981108786138\n"
     ]
    }
   ],
   "source": [
    "alpha = alphas[np.argmin(avg_cv_results)]\n",
    "\n",
    "tuned_model = Ridge(alpha = alpha)\n",
    "tuned_model.fit(X_train_scaled, y_train)\n",
    "\n",
    "\n",
    "y_pred = np.exp(tuned_model.predict(X_test_scaled))\n",
    "\n",
    "test_mae = mean_absolute_error(y_test, y_pred)\n",
    "print('Test MAE:', test_mae)\n"
   ]
  },
  {
   "cell_type": "markdown",
   "id": "b133ea8c-a905-4071-8cc5-96671fa8afc5",
   "metadata": {},
   "source": [
    "### h)\n",
    "\n",
    "Repeat the tuning process in Part d with the same specifications. However, instead of saving the CV scores, save all the CV predictions in a numpy array. **You must use `cross_val_predict` (properly) for credit.**\n",
    "\n",
    "Note that the main goal of this and the following parts is to tune the model with the CV MAE of the actual GDP per capita values.\n",
    "\n",
    "**(5 points)**"
   ]
  },
  {
   "cell_type": "code",
   "execution_count": 140,
   "id": "cca9959a-ec14-49b4-bb94-ef4f30c1da3d",
   "metadata": {},
   "outputs": [
    {
     "data": {
      "text/plain": [
       "array([10874.92558746, 10852.80163658, 10830.72863928, 10808.70816687,\n",
       "       10786.74178738, 10764.8310654 , 10742.97756185, 10721.18283382,\n",
       "       10699.44843426, 10677.77591174, 10656.16681019, 10634.6226686 ,\n",
       "       10613.14502066, 10591.73539447, 10570.39531216, 10549.12628954,\n",
       "       10527.92983567, 10506.80745251, 10485.76063445, 10464.79086792,\n",
       "       10443.89963089, 10423.08839243, 10402.35861226, 10381.71174019,\n",
       "       10361.1492157 , 10340.67246738, 10320.28291241, 10299.98195604,\n",
       "       10279.77099106, 10259.65139727, 10239.62454086, 10219.69177395,\n",
       "       10199.85443397, 10180.1138431 , 10160.47130776, 10140.92811798,\n",
       "       10121.48554687, 10102.14485006, 10082.90726514, 10063.80639792,\n",
       "       10044.83784737, 10025.97398789, 10007.21601665,  9988.56510965,\n",
       "        9970.02242112,  9951.7284774 ,  9933.67217101,  9915.72538944,\n",
       "        9897.88920424,  9880.16466278,  9862.59418326,  9845.20271272,\n",
       "        9827.92388904,  9810.75868451,  9794.15904665,  9778.19902274,\n",
       "        9762.34313991,  9746.59233592,  9730.94752232,  9715.40958405,\n",
       "        9699.97937914,  9684.65773844,  9669.44546525,  9654.34333513,\n",
       "        9639.42152948,  9624.76028088,  9610.20878684,  9595.89120137,\n",
       "        9581.69678179,  9567.61275686,  9554.86688026,  9543.12519669,\n",
       "        9531.78609497,  9520.68290698,  9509.67469067,  9498.76173971,\n",
       "        9487.94432469,  9477.22269315,  9466.59706969,  9456.06765595,\n",
       "        9445.63463082,  9435.29815042,  9425.05834834,  9414.91533569,\n",
       "        9404.86920128,  9394.9200118 ,  9385.06781198,  9375.31262479,\n",
       "        9365.65445164,  9356.09327261,  9346.62904666,  9337.72380754,\n",
       "        9329.1720736 ,  9320.7086987 ,  9312.33359498,  9304.04665625,\n",
       "        9295.84775828,  9287.73675903,  9279.71349898,  9271.77780138,\n",
       "        9263.92947254,  9256.16830217,  9248.49406362,  9240.90651426,\n",
       "        9233.40539573,  9225.99043432,  9218.66134123,  9211.41781296,\n",
       "        9204.25953162,  9197.18616523,  9190.1973681 ,  9183.29278116,\n",
       "        9176.47203228,  9169.73473665,  9163.08049709,  9156.50890438,\n",
       "        9150.01953767,  9143.71652183,  9138.26572477,  9132.89116907,\n",
       "        9127.59247446,  9122.36924935,  9117.2210911 ,  9112.14758637,\n",
       "        9107.14831142,  9102.37191093,  9097.68520042,  9093.06997636,\n",
       "        9088.52579187,  9084.05219118,  9079.64870995,  9075.31487559,\n",
       "        9071.05020752,  9066.85421749,  9062.72640987,  9058.66628191,\n",
       "        9054.67332406,  9050.74702023,  9046.88684809,  9043.09227934,\n",
       "        9039.36277995,  9035.69781049,  9032.09682636,  9028.55927805,\n",
       "        9025.08461142,  9021.89163803,  9019.1214826 ,  9016.40501944,\n",
       "        9013.74176444,  9011.13122967,  9008.5729236 ,  9006.06635128,\n",
       "        9003.6110146 ,  9001.20641242,  8998.85204082,  8996.54739329,\n",
       "        8994.29196089,  8992.08523248,  8989.92669485,  8987.81583299,\n",
       "        8985.75213015,  8983.88526514,  8983.08582645,  8982.3153962 ,\n",
       "        8981.58442408,  8980.98600379,  8980.41551545,  8979.87253963,\n",
       "        8979.35665792,  8978.86745295,  8978.40450854,  8977.96740974,\n",
       "        8977.55574292,  8977.16909584,  8976.80705773,  8976.4692194 ,\n",
       "        8976.15517323,  8975.86451334,  8975.59683556,  8975.3517376 ,\n",
       "        8975.12881903,  8974.92768141,  8974.74792828,  8974.58916531,\n",
       "        8974.4510003 ,  8974.33304326,  8974.23490644,  8974.15620445,\n",
       "        8974.09655423,  8974.05557518,  8974.03288916,  8974.02812057,\n",
       "        8974.04089638,  8974.07084619,  8974.33385253,  8974.62571038,\n",
       "        8974.93104815,  8975.24953217,  8975.58083144,  8975.92461765])"
      ]
     },
     "execution_count": 140,
     "metadata": {},
     "output_type": "execute_result"
    }
   ],
   "source": [
    "cv_preds = []\n",
    "alphas = np.logspace(2,0.5,200)\n",
    "\n",
    "for alpha in alphas:\n",
    "    model = Ridge(alpha=alpha)\n",
    "    cv_pred = cross_val_predict(model, X_train_scaled, y_train, cv = 10)\n",
    "\n",
    "    cv_preds.append(cv_pred)\n",
    "\n",
    "# convert  log predictions into the linear scale \n",
    "cv_pred_errors = np.exp(np.array(cv_preds)) - np.array(np.exp(y_train))\n",
    "\n",
    "# calculate MAE for each alpha\n",
    "cv_maes = np.abs(cv_pred_errors).mean(axis=1)\n",
    "\n",
    "cv_maes"
   ]
  },
  {
   "cell_type": "markdown",
   "id": "03538e8e-5864-47b4-b2ca-f53f55e7e70b",
   "metadata": {},
   "source": [
    "### i)\n",
    "\n",
    "Using the numpy array created in Part h, find the tuned hyperparameter value and the best average CV score that corresponds to it.\n",
    "\n",
    "You should see a tuned hyperparameter value different than in Part e and a best average CV score that actually represents the average error in GDP per capita values. \n",
    "\n",
    "**(4 points)**"
   ]
  },
  {
   "cell_type": "code",
   "execution_count": 142,
   "id": "cdc7dabe-ddad-4ece-bcfd-60fba8108ad8",
   "metadata": {},
   "outputs": [
    {
     "name": "stdout",
     "output_type": "stream",
     "text": [
      "Best avg cv performance: 8974.028120572799\n",
      "Best hyperparam: 3.6333020805204432\n"
     ]
    }
   ],
   "source": [
    "print('Best avg cv performance:', np.min(cv_maes))\n",
    "print('Best hyperparam:', alphas[np.argmin(cv_maes)])\n",
    "\n"
   ]
  },
  {
   "cell_type": "markdown",
   "id": "9856a6b5-35fb-4b61-8207-d4689e9fae47",
   "metadata": {},
   "source": [
    "### j)\n",
    "\n",
    "Train a final ridge regression model with the tuned hyperparameter value found in Part i. Return the test Mean Absolute Error (MAE). **You must return the test MAE of the actual GDP per capita values for credit.** \n",
    "\n",
    "How does the test MAE in this part compare to the test MAE in Part g? Why do you think this is the case?\n",
    "\n",
    "**(4 points)**"
   ]
  },
  {
   "cell_type": "code",
   "execution_count": 146,
   "id": "a3eb3424-d7cc-4e90-8efd-0790c088ae95",
   "metadata": {},
   "outputs": [
    {
     "name": "stdout",
     "output_type": "stream",
     "text": [
      "Test MAE: 9869.168574969644\n"
     ]
    }
   ],
   "source": [
    "alpha = alphas[np.argmin(cv_maes)]\n",
    "\n",
    "tuned_model = Ridge(alpha=alpha)\n",
    "tuned_model.fit(X_train_scaled, y_train)\n",
    "\n",
    "\n",
    "y_pred = tuned_model.predict(X_test_scaled)\n",
    "\n",
    "test_mae = mean_absolute_error(np.exp(y_test), np.exp(y_pred))\n",
    "\n",
    "\n",
    "print('Test MAE:', test_mae)\n"
   ]
  },
  {
   "cell_type": "markdown",
   "id": "5e9cf76c-c537-4786-b3e3-7fae7b6b60a0",
   "metadata": {},
   "source": [
    "Test MAE here is slightly lower than in part g. The earlier model was tuned using cross_val_score, which does not provide scores based on the actual prediction values of GDP per capita, so its output differs from the model here. Since this model was tuned according to the actual MAE for real GDP per capita values, it performs slightly better."
   ]
  },
  {
   "cell_type": "markdown",
   "id": "9096ddae-e386-4b26-b2d8-9f67a920219d",
   "metadata": {},
   "source": [
    "## 2) Cross-validation for a Classification Task (36 points)"
   ]
  },
  {
   "cell_type": "markdown",
   "id": "0f865efd-5a1d-42ad-a772-315f323d83a2",
   "metadata": {},
   "source": [
    "In this question, you will focus on lower-level cross-validation tools for a classification task.\n",
    "\n",
    "Read the data from **diabetes_train.csv** and **diabetes_test.csv**. Each observation is a patient. The `Outcome` variable represents whether the patient has diabetes (1) or not (0). The rest of the variables should be self-explanatory."
   ]
  },
  {
   "cell_type": "code",
   "execution_count": 151,
   "id": "d2677f61-52d5-4cd2-93ff-15efbe87b670",
   "metadata": {},
   "outputs": [
    {
     "data": {
      "text/html": [
       "<div>\n",
       "<style scoped>\n",
       "    .dataframe tbody tr th:only-of-type {\n",
       "        vertical-align: middle;\n",
       "    }\n",
       "\n",
       "    .dataframe tbody tr th {\n",
       "        vertical-align: top;\n",
       "    }\n",
       "\n",
       "    .dataframe thead th {\n",
       "        text-align: right;\n",
       "    }\n",
       "</style>\n",
       "<table border=\"1\" class=\"dataframe\">\n",
       "  <thead>\n",
       "    <tr style=\"text-align: right;\">\n",
       "      <th></th>\n",
       "      <th>Pregnancies</th>\n",
       "      <th>Glucose</th>\n",
       "      <th>BloodPressure</th>\n",
       "      <th>SkinThickness</th>\n",
       "      <th>Insulin</th>\n",
       "      <th>BMI</th>\n",
       "      <th>DiabetesPedigreeFunction</th>\n",
       "      <th>Age</th>\n",
       "      <th>Outcome</th>\n",
       "    </tr>\n",
       "  </thead>\n",
       "  <tbody>\n",
       "    <tr>\n",
       "      <th>0</th>\n",
       "      <td>2</td>\n",
       "      <td>88</td>\n",
       "      <td>74</td>\n",
       "      <td>19</td>\n",
       "      <td>53</td>\n",
       "      <td>29.0</td>\n",
       "      <td>0.229</td>\n",
       "      <td>22</td>\n",
       "      <td>0</td>\n",
       "    </tr>\n",
       "    <tr>\n",
       "      <th>1</th>\n",
       "      <td>2</td>\n",
       "      <td>129</td>\n",
       "      <td>84</td>\n",
       "      <td>0</td>\n",
       "      <td>0</td>\n",
       "      <td>28.0</td>\n",
       "      <td>0.284</td>\n",
       "      <td>27</td>\n",
       "      <td>0</td>\n",
       "    </tr>\n",
       "    <tr>\n",
       "      <th>2</th>\n",
       "      <td>0</td>\n",
       "      <td>102</td>\n",
       "      <td>78</td>\n",
       "      <td>40</td>\n",
       "      <td>90</td>\n",
       "      <td>34.5</td>\n",
       "      <td>0.238</td>\n",
       "      <td>24</td>\n",
       "      <td>0</td>\n",
       "    </tr>\n",
       "    <tr>\n",
       "      <th>3</th>\n",
       "      <td>0</td>\n",
       "      <td>123</td>\n",
       "      <td>72</td>\n",
       "      <td>0</td>\n",
       "      <td>0</td>\n",
       "      <td>36.3</td>\n",
       "      <td>0.258</td>\n",
       "      <td>52</td>\n",
       "      <td>1</td>\n",
       "    </tr>\n",
       "    <tr>\n",
       "      <th>4</th>\n",
       "      <td>1</td>\n",
       "      <td>144</td>\n",
       "      <td>82</td>\n",
       "      <td>46</td>\n",
       "      <td>180</td>\n",
       "      <td>46.1</td>\n",
       "      <td>0.335</td>\n",
       "      <td>46</td>\n",
       "      <td>1</td>\n",
       "    </tr>\n",
       "  </tbody>\n",
       "</table>\n",
       "</div>"
      ],
      "text/plain": [
       "   Pregnancies  Glucose  BloodPressure  SkinThickness  Insulin   BMI  \\\n",
       "0            2       88             74             19       53  29.0   \n",
       "1            2      129             84              0        0  28.0   \n",
       "2            0      102             78             40       90  34.5   \n",
       "3            0      123             72              0        0  36.3   \n",
       "4            1      144             82             46      180  46.1   \n",
       "\n",
       "   DiabetesPedigreeFunction  Age  Outcome  \n",
       "0                     0.229   22        0  \n",
       "1                     0.284   27        0  \n",
       "2                     0.238   24        0  \n",
       "3                     0.258   52        1  \n",
       "4                     0.335   46        1  "
      ]
     },
     "execution_count": 151,
     "metadata": {},
     "output_type": "execute_result"
    }
   ],
   "source": [
    "train = pd.read_csv('diabetes_train.csv')\n",
    "test = pd.read_csv('diabetes_test.csv')\n",
    "train.head()"
   ]
  },
  {
   "cell_type": "markdown",
   "id": "bdbe9300-1eb1-42e1-b554-7c9b978a7555",
   "metadata": {},
   "source": [
    "### a)\n",
    "\n",
    "Create the training and test data. `Outcome` is the response and all the other variables are the predictors. **(2 points)**"
   ]
  },
  {
   "cell_type": "code",
   "execution_count": 154,
   "id": "27caaabb-05e2-4e16-a360-b0b37be378b6",
   "metadata": {},
   "outputs": [],
   "source": [
    "X_train = train.drop(['Outcome'], axis=1)\n",
    "y_train = train['Outcome']\n",
    "\n",
    "X_test = test.drop(['Outcome'], axis=1)\n",
    "y_test = test['Outcome']"
   ]
  },
  {
   "cell_type": "markdown",
   "id": "f8d523de-8b04-40b9-9ba4-5057912757ab",
   "metadata": {},
   "source": [
    "### b)\n",
    "\n",
    "Scale the training and the test data. **(1 point)**"
   ]
  },
  {
   "cell_type": "code",
   "execution_count": 157,
   "id": "b80a59e1-8521-4860-8b87-aa537df18180",
   "metadata": {},
   "outputs": [],
   "source": [
    "scaler = StandardScaler()\n",
    "scaler.fit(X_train)\n",
    "\n",
    "X_train_scaled = scaler.transform(X_train)\n",
    "X_test_scaled = scaler.transform(X_test)"
   ]
  },
  {
   "cell_type": "markdown",
   "id": "b2304a1c-c3c1-45bf-9e23-2f26ee0aac75",
   "metadata": {},
   "source": [
    "### c)\n",
    "\n",
    "Tune a lasso classification model (with `solver=saga`) with the following specifications:\n",
    "\n",
    "- A hyperparameter vector of `np.logspace(2,-2,200)`\n",
    "- 5-fold cross-validation (CV)\n",
    "- Accuracy, which is the default input, as the scoring metric\n",
    "\n",
    "Save all your CV scores in a numpy array. **You must use `cross_val_score` (properly) for credit.**\n",
    "\n",
    "**(5 points)**"
   ]
  },
  {
   "cell_type": "code",
   "execution_count": 160,
   "id": "515c7494-e542-47ab-acb5-180170f9c082",
   "metadata": {},
   "outputs": [],
   "source": [
    "Cs = np.logspace(2,-2,200)\n",
    "cv_scores = []\n",
    "\n",
    "for C in Cs:\n",
    "    model = LogisticRegression(penalty = 'l1', C=C, solver='saga')\n",
    "    cv_score = cross_val_score(model, X_train_scaled, y_train, cv=5)\n",
    "    cv_scores.append(cv_score)\n",
    "\n",
    "avg_cv_scores = np.array(cv_scores).mean(axis=1)\n",
    "\n"
   ]
  },
  {
   "cell_type": "markdown",
   "id": "7277e59c-d603-4430-81fa-5c616e2fd4d3",
   "metadata": {},
   "source": [
    "### d)\n",
    "\n",
    "Using the numpy array created in Part c, find the tuned hyperparameter value and the best average CV score that corresponds to it. **(2 points)**"
   ]
  },
  {
   "cell_type": "code",
   "execution_count": 163,
   "id": "d47fbccb-23ff-457f-a87a-945b46c45910",
   "metadata": {},
   "outputs": [
    {
     "name": "stdout",
     "output_type": "stream",
     "text": [
      "Best avg cv performance: 0.7687591630014661\n",
      "Best C value: 0.8119844993184009\n"
     ]
    }
   ],
   "source": [
    "print('Best avg cv performance:', np.max(avg_cv_scores))\n",
    "print('Best C value:', Cs[np.argmax(avg_cv_scores)])\n",
    "\n"
   ]
  },
  {
   "cell_type": "markdown",
   "id": "7a70c404-b2f1-4401-8c43-c4d3ee9b8fce",
   "metadata": {},
   "source": [
    "### e)\n",
    "\n",
    "Train a final lasso classification model with the tuned hyperparameter value found in Part d. Using a decision threshold of 0.5, return the test accuracy and test recall. Return the test AUC as well. Which metric returns a lower performance than the others?\n",
    "\n",
    "**(5 points)**"
   ]
  },
  {
   "cell_type": "code",
   "execution_count": 166,
   "id": "32a62bf1-02c6-42e7-ae02-be53c2c2d7a9",
   "metadata": {},
   "outputs": [
    {
     "name": "stdout",
     "output_type": "stream",
     "text": [
      "Test accuracy: 0.7922077922077922\n",
      "Test recall: 0.5901639344262295\n",
      "Test AUC: 0.7574475586109641\n"
     ]
    }
   ],
   "source": [
    "C = Cs[np.argmax(avg_cv_scores)]\n",
    "\n",
    "tuned_model = LogisticRegression(penalty = 'l1', C=C, solver='saga')\n",
    "tuned_model.fit(X_train_scaled, y_train)\n",
    "\n",
    "\n",
    "y_pred_probs = tuned_model.predict_proba(X_test_scaled)[:,1]\n",
    "\n",
    "\n",
    "print('Test accuracy:', accuracy_score(y_test, y_pred_probs > 0.5))\n",
    "print('Test recall:', recall_score(y_test, y_pred_probs > 0.5))\n",
    "print('Test AUC:', roc_auc_score(y_test, y_pred_probs > 0.5))\n",
    "\n",
    "\n",
    "\n",
    "\n",
    "\n"
   ]
  },
  {
   "cell_type": "markdown",
   "id": "a3448170-15c0-442d-9de8-dac0f283e525",
   "metadata": {},
   "source": [
    "Recall is significantly lower than accuracy and AUC."
   ]
  },
  {
   "cell_type": "markdown",
   "id": "e83752fe-4798-427a-a302-f74234301c8f",
   "metadata": {},
   "source": [
    "### f)\n",
    "\n",
    "What was the decision threshold used to find the CV scores in Part c? How did it contribute to the low performance in Part e? **(2 points)**"
   ]
  },
  {
   "cell_type": "markdown",
   "id": "678512b9-314f-4e47-a1ce-cca53e1215b1",
   "metadata": {},
   "source": [
    "The decision threshold used in part c was 0.5, the default. Since this value was not tuned separately or in tandem with the hyperparameter, the model's performance was limited."
   ]
  },
  {
   "cell_type": "markdown",
   "id": "7c6ee958-e5ff-404a-9178-62625ef25f6a",
   "metadata": {},
   "source": [
    "### g)\n",
    "\n",
    "Recreate the tuned lasso classification model from Part e. Using this model, return the **CV prediction probabilities** for the best hyperparameter value found in Part d. Save all the CV prediction probabilities in a numpy array. **You must use `cross_val_predict` (properly) for credit.**\n",
    "\n",
    "Note that the main goal of this and the following parts is to tune the decision threshold by using the CV prediction probabilities.\n",
    "\n",
    "**(3 points)**"
   ]
  },
  {
   "cell_type": "code",
   "execution_count": 172,
   "id": "a056b5cb-5521-4481-8387-c09505c7fb72",
   "metadata": {},
   "outputs": [
    {
     "data": {
      "text/plain": [
       "array([[0.94988526, 0.05011474],\n",
       "       [0.81355881, 0.18644119],\n",
       "       [0.90997698, 0.09002302],\n",
       "       ...,\n",
       "       [0.91094125, 0.08905875],\n",
       "       [0.53258248, 0.46741752],\n",
       "       [0.79443514, 0.20556486]])"
      ]
     },
     "execution_count": 172,
     "metadata": {},
     "output_type": "execute_result"
    }
   ],
   "source": [
    "tuned_model = LogisticRegression(penalty = 'l1', C=C, solver='saga')\n",
    "tuned_model.fit(X_train_scaled, y_train)\n",
    "\n",
    "cv_pred_probs = np.array(cross_val_predict(tuned_model, X_train_scaled, y_train, cv=5, method = 'predict_proba'))\n",
    "cv_pred_probs"
   ]
  },
  {
   "cell_type": "markdown",
   "id": "1e4249cf-788f-4655-8186-efd5a8f440ae",
   "metadata": {},
   "source": [
    "### h)\n",
    "\n",
    "Using the numpy array created in Part g, calculate and store the CV accuracy, CV recall and CV AUC for all possible threshold values from 0 to 1 with a stepsize of 0.001. \n",
    "\n",
    "**Note:** Be careful with AUC.\n",
    "\n",
    "**(4 points)**"
   ]
  },
  {
   "cell_type": "code",
   "execution_count": 175,
   "id": "e569b076-0aeb-4e8a-be38-594e67a54f69",
   "metadata": {},
   "outputs": [],
   "source": [
    "thrs = np.arange(0,1,0.001)\n",
    "accs = []\n",
    "recs = []\n",
    "aucs = []\n",
    "\n",
    "for thr in thrs:\n",
    "    accs.append(accuracy_score(y_train, cv_pred_probs[:,1] > thr))\n",
    "    recs.append(recall_score(y_train, cv_pred_probs[:,1] > thr))\n",
    "    aucs.append(roc_auc_score(y_train, cv_pred_probs[:,1]))\n"
   ]
  },
  {
   "cell_type": "markdown",
   "id": "faaf172b-5f80-45ac-9c48-ab32665fa57b",
   "metadata": {},
   "source": [
    "### i)\n",
    "\n",
    "Plot the accuracy, recall and AUC values found in Part h (y-axis) against the threshold (x-axis) on the same graph. Include a legend. **(3 points)**"
   ]
  },
  {
   "cell_type": "code",
   "execution_count": 178,
   "id": "38c15fe0-426c-453f-ab4d-54e11a4332f5",
   "metadata": {},
   "outputs": [
    {
     "data": {
      "image/png": "[encoded data removed]",
      "text/plain": [
       "<Figure size 1200x800 with 1 Axes>"
      ]
     },
     "metadata": {},
     "output_type": "display_data"
    }
   ],
   "source": [
    "plt.figure(figsize=(12,8))\n",
    "plt.plot(thrs, accs, label='Accuracy', color='green')\n",
    "plt.plot(thrs, recs, label='Recall', color='blue')\n",
    "plt.plot(thrs, aucs, label='AUC', color = 'orange')\n",
    "plt.xlabel(\"Threshold\")\n",
    "plt.ylabel(\"Score\")\n",
    "plt.legend()\n",
    "plt.show()"
   ]
  },
  {
   "cell_type": "markdown",
   "id": "af7b2fad-6d13-476a-b43e-9fb347d67922",
   "metadata": {},
   "source": [
    "### j)\n",
    "\n",
    "In the plot in Part i, you should see a threshold value where the accuracy and recall values are the same. Find that value. \n",
    "\n",
    "**Note:** You need to round the accuracy and recall values to 2 decimal digits to find the threshold. In other words, round them to integers if you are using the scores as percentages.\n",
    "\n",
    "**(3 points)**"
   ]
  },
  {
   "cell_type": "code",
   "execution_count": 181,
   "id": "f2a7207f-ce05-4911-bf8d-468cf2f899f9",
   "metadata": {},
   "outputs": [
    {
     "name": "stdout",
     "output_type": "stream",
     "text": [
      "     accuracy  recall       auc  threshold\n",
      "319      0.74    0.74  0.810289      0.319\n",
      "Threshold value found is 0.319.\n"
     ]
    }
   ],
   "source": [
    "score_df = pd.DataFrame(columns = ['accuracy', 'recall', 'auc','threshold'])\n",
    "score_df.threshold = thrs\n",
    "score_df.accuracy = np.round(accs,2)\n",
    "score_df.recall = np.round(recs,2)\n",
    "score_df.auc = aucs\n",
    "\n",
    "print(score_df.loc[score_df.accuracy == score_df.recall])\n",
    "\n",
    "print('Threshold value found is 0.319.')"
   ]
  },
  {
   "cell_type": "markdown",
   "id": "13e9b322-76cb-4d8f-a7e9-ec132fc7e1de",
   "metadata": {},
   "source": [
    "### k)\n",
    "\n",
    "Recreate the tuned lasso classification model from Part e. Using the threshold value found in Part j, return the test accuracy and test recall. Also return the test AUC. **(3 points)**\n",
    "\n",
    "How do the accuracy and recall compare to Part e? **(1 point)** Did AUC change? **(1 point)** Why or why not? **(1 point)**"
   ]
  },
  {
   "cell_type": "code",
   "execution_count": 184,
   "id": "77c215b2-7808-4112-9859-4132f9e55a13",
   "metadata": {},
   "outputs": [
    {
     "name": "stdout",
     "output_type": "stream",
     "text": [
      "Test accuracy: 0.7727272727272727\n",
      "Test recall: 0.7868852459016393\n",
      "Test AUC: 0.7751630530583465\n"
     ]
    }
   ],
   "source": [
    "tuned_model = LogisticRegression(penalty = 'l1', C=C, solver='saga')\n",
    "tuned_model.fit(X_train_scaled, y_train)\n",
    "\n",
    "\n",
    "y_pred_probs = tuned_model.predict_proba(X_test_scaled)[:,1]\n",
    "\n",
    "\n",
    "print('Test accuracy:', accuracy_score(y_test, y_pred_probs > 0.319))\n",
    "print('Test recall:', recall_score(y_test, y_pred_probs > 0.319))\n",
    "print('Test AUC:', roc_auc_score(y_test, y_pred_probs > 0.319))\n",
    "\n",
    "\n",
    "\n"
   ]
  },
  {
   "cell_type": "markdown",
   "id": "544383ca-9037-41c9-b2ab-1805acff1cd4",
   "metadata": {},
   "source": [
    "## 3) Outliers and Multicollinearity (27 points)"
   ]
  },
  {
   "cell_type": "markdown",
   "id": "4ba1f405-c87d-4c5c-a755-3dfadef3f7ea",
   "metadata": {},
   "source": [
    "In this question, you will analyze how removing the unnecessary observations and predictors can improve the prediction and the inference performance of a model. \n",
    "\n",
    "Read the data from **Austin_Affordable_Housing_Train.csv** and **Austin_Affordable_Housing_Test.csv**. Each observation represents a housing development in Austin, TX. The `City_Amount` variable represents the amount (in USD) provided by the city of Austin for the development. This variable will be the response for the regression task."
   ]
  },
  {
   "cell_type": "code",
   "execution_count": 188,
   "id": "6c2efeb7-f438-4638-a99d-de413656a670",
   "metadata": {},
   "outputs": [
    {
     "data": {
      "text/html": [
       "<div>\n",
       "<style scoped>\n",
       "    .dataframe tbody tr th:only-of-type {\n",
       "        vertical-align: middle;\n",
       "    }\n",
       "\n",
       "    .dataframe tbody tr th {\n",
       "        vertical-align: top;\n",
       "    }\n",
       "\n",
       "    .dataframe thead th {\n",
       "        text-align: right;\n",
       "    }\n",
       "</style>\n",
       "<table border=\"1\" class=\"dataframe\">\n",
       "  <thead>\n",
       "    <tr style=\"text-align: right;\">\n",
       "      <th></th>\n",
       "      <th>Unnamed: 0</th>\n",
       "      <th>Zip_Code</th>\n",
       "      <th>Council_District</th>\n",
       "      <th>Total_Units</th>\n",
       "      <th>Total_Affordable_Units</th>\n",
       "      <th>Total_Accessible_Units</th>\n",
       "      <th>Total_Permanent_Support</th>\n",
       "      <th>Unit_Type</th>\n",
       "      <th>Tenure</th>\n",
       "      <th>Status</th>\n",
       "      <th>Affordability_Start_Year</th>\n",
       "      <th>Affordability_Expiration_Year</th>\n",
       "      <th>Affordability_Period</th>\n",
       "      <th>Units_Under_50_Percent_MFI</th>\n",
       "      <th>Market_Rate_Units</th>\n",
       "      <th>Voluntary</th>\n",
       "      <th>City_Amount</th>\n",
       "    </tr>\n",
       "  </thead>\n",
       "  <tbody>\n",
       "    <tr>\n",
       "      <th>0</th>\n",
       "      <td>200</td>\n",
       "      <td>78702</td>\n",
       "      <td>1</td>\n",
       "      <td>3</td>\n",
       "      <td>0.0</td>\n",
       "      <td>0.0</td>\n",
       "      <td>0.0</td>\n",
       "      <td>Multifamily</td>\n",
       "      <td>Ownership</td>\n",
       "      <td>7. Project Completed</td>\n",
       "      <td>2000</td>\n",
       "      <td>2099</td>\n",
       "      <td>99</td>\n",
       "      <td>0</td>\n",
       "      <td>3</td>\n",
       "      <td>No</td>\n",
       "      <td>3962717.0</td>\n",
       "    </tr>\n",
       "    <tr>\n",
       "      <th>1</th>\n",
       "      <td>201</td>\n",
       "      <td>78745</td>\n",
       "      <td>2</td>\n",
       "      <td>20</td>\n",
       "      <td>20.0</td>\n",
       "      <td>16.0</td>\n",
       "      <td>4.0</td>\n",
       "      <td>Multifamily</td>\n",
       "      <td>Rental</td>\n",
       "      <td>6. Building Permit Issued</td>\n",
       "      <td>2015</td>\n",
       "      <td>2055</td>\n",
       "      <td>40</td>\n",
       "      <td>16</td>\n",
       "      <td>0</td>\n",
       "      <td>No</td>\n",
       "      <td>1376070.0</td>\n",
       "    </tr>\n",
       "    <tr>\n",
       "      <th>2</th>\n",
       "      <td>202</td>\n",
       "      <td>78745</td>\n",
       "      <td>5</td>\n",
       "      <td>4</td>\n",
       "      <td>3.0</td>\n",
       "      <td>0.0</td>\n",
       "      <td>0.0</td>\n",
       "      <td>FourPlex</td>\n",
       "      <td>Rental</td>\n",
       "      <td>7. Project Completed</td>\n",
       "      <td>2015</td>\n",
       "      <td>2114</td>\n",
       "      <td>99</td>\n",
       "      <td>3</td>\n",
       "      <td>1</td>\n",
       "      <td>No</td>\n",
       "      <td>257775.0</td>\n",
       "    </tr>\n",
       "    <tr>\n",
       "      <th>3</th>\n",
       "      <td>203</td>\n",
       "      <td>78741</td>\n",
       "      <td>3</td>\n",
       "      <td>14</td>\n",
       "      <td>14.0</td>\n",
       "      <td>1.0</td>\n",
       "      <td>0.0</td>\n",
       "      <td>Multifamily</td>\n",
       "      <td>Rental</td>\n",
       "      <td>7. Project Completed</td>\n",
       "      <td>2001</td>\n",
       "      <td>2021</td>\n",
       "      <td>20</td>\n",
       "      <td>14</td>\n",
       "      <td>0</td>\n",
       "      <td>No</td>\n",
       "      <td>500000.0</td>\n",
       "    </tr>\n",
       "    <tr>\n",
       "      <th>4</th>\n",
       "      <td>204</td>\n",
       "      <td>78721</td>\n",
       "      <td>3</td>\n",
       "      <td>97</td>\n",
       "      <td>97.0</td>\n",
       "      <td>12.0</td>\n",
       "      <td>4.0</td>\n",
       "      <td>Multifamily</td>\n",
       "      <td>Rental</td>\n",
       "      <td>1. Certified/Loan Executed</td>\n",
       "      <td>2000</td>\n",
       "      <td>2040</td>\n",
       "      <td>40</td>\n",
       "      <td>62</td>\n",
       "      <td>0</td>\n",
       "      <td>No</td>\n",
       "      <td>1600000.0</td>\n",
       "    </tr>\n",
       "  </tbody>\n",
       "</table>\n",
       "</div>"
      ],
      "text/plain": [
       "   Unnamed: 0  Zip_Code  Council_District  Total_Units  \\\n",
       "0         200     78702                 1            3   \n",
       "1         201     78745                 2           20   \n",
       "2         202     78745                 5            4   \n",
       "3         203     78741                 3           14   \n",
       "4         204     78721                 3           97   \n",
       "\n",
       "   Total_Affordable_Units  Total_Accessible_Units  Total_Permanent_Support  \\\n",
       "0                     0.0                     0.0                      0.0   \n",
       "1                    20.0                    16.0                      4.0   \n",
       "2                     3.0                     0.0                      0.0   \n",
       "3                    14.0                     1.0                      0.0   \n",
       "4                    97.0                    12.0                      4.0   \n",
       "\n",
       "     Unit_Type     Tenure                      Status  \\\n",
       "0  Multifamily  Ownership        7. Project Completed   \n",
       "1  Multifamily     Rental   6. Building Permit Issued   \n",
       "2     FourPlex     Rental        7. Project Completed   \n",
       "3  Multifamily     Rental        7. Project Completed   \n",
       "4  Multifamily     Rental  1. Certified/Loan Executed   \n",
       "\n",
       "   Affordability_Start_Year  Affordability_Expiration_Year  \\\n",
       "0                      2000                           2099   \n",
       "1                      2015                           2055   \n",
       "2                      2015                           2114   \n",
       "3                      2001                           2021   \n",
       "4                      2000                           2040   \n",
       "\n",
       "   Affordability_Period  Units_Under_50_Percent_MFI  Market_Rate_Units  \\\n",
       "0                    99                           0                  3   \n",
       "1                    40                          16                  0   \n",
       "2                    99                           3                  1   \n",
       "3                    20                          14                  0   \n",
       "4                    40                          62                  0   \n",
       "\n",
       "  Voluntary  City_Amount  \n",
       "0        No    3962717.0  \n",
       "1        No    1376070.0  \n",
       "2        No     257775.0  \n",
       "3        No     500000.0  \n",
       "4        No    1600000.0  "
      ]
     },
     "execution_count": 188,
     "metadata": {},
     "output_type": "execute_result"
    }
   ],
   "source": [
    "train = pd.read_csv('Austin_Affordable_Housing_Train.csv')\n",
    "test = pd.read_csv('Austin_Affordable_Housing_Test.csv')\n",
    "test.head()"
   ]
  },
  {
   "cell_type": "markdown",
   "id": "7dd88219-5078-4cc7-af4b-2902666bbd4a",
   "metadata": {},
   "source": [
    "### a)\n",
    "\n",
    "Using statsmodels, create and train a **linear** regression model that predicts `City_Amount` using `Market_Rate_Units`, `Total_Affordable_Units`, `Total_Accessible_Units`, and `Total_Units` as the four predictors. Do not include any interaction terms. Do not transform any predictors or the response.\n",
    "\n",
    "Print the model summary. Which predictor is statistically insignificant? **(3 points)**"
   ]
  },
  {
   "cell_type": "code",
   "execution_count": 191,
   "id": "a30b41de-fd2f-44f8-8b67-25fd127889bb",
   "metadata": {},
   "outputs": [
    {
     "data": {
      "text/html": [
       "<table class=\"simpletable\">\n",
       "<caption>OLS Regression Results</caption>\n",
       "<tr>\n",
       "  <th>Dep. Variable:</th>       <td>City_Amount</td>   <th>  R-squared:         </th> <td>   0.543</td>\n",
       "</tr>\n",
       "<tr>\n",
       "  <th>Model:</th>                   <td>OLS</td>       <th>  Adj. R-squared:    </th> <td>   0.533</td>\n",
       "</tr>\n",
       "<tr>\n",
       "  <th>Method:</th>             <td>Least Squares</td>  <th>  F-statistic:       </th> <td>   57.87</td>\n",
       "</tr>\n",
       "<tr>\n",
       "  <th>Date:</th>             <td>Sun, 09 Mar 2025</td> <th>  Prob (F-statistic):</th> <td>3.94e-32</td>\n",
       "</tr>\n",
       "<tr>\n",
       "  <th>Time:</th>                 <td>13:39:20</td>     <th>  Log-Likelihood:    </th> <td> -3045.5</td>\n",
       "</tr>\n",
       "<tr>\n",
       "  <th>No. Observations:</th>      <td>   200</td>      <th>  AIC:               </th> <td>   6101.</td>\n",
       "</tr>\n",
       "<tr>\n",
       "  <th>Df Residuals:</th>          <td>   195</td>      <th>  BIC:               </th> <td>   6117.</td>\n",
       "</tr>\n",
       "<tr>\n",
       "  <th>Df Model:</th>              <td>     4</td>      <th>                     </th>     <td> </td>   \n",
       "</tr>\n",
       "<tr>\n",
       "  <th>Covariance Type:</th>      <td>nonrobust</td>    <th>                     </th>     <td> </td>   \n",
       "</tr>\n",
       "</table>\n",
       "<table class=\"simpletable\">\n",
       "<tr>\n",
       "             <td></td>               <th>coef</th>     <th>std err</th>      <th>t</th>      <th>P>|t|</th>  <th>[0.025</th>    <th>0.975]</th>  \n",
       "</tr>\n",
       "<tr>\n",
       "  <th>Intercept</th>              <td> 2.597e+05</td> <td> 7.94e+04</td> <td>    3.272</td> <td> 0.001</td> <td> 1.03e+05</td> <td> 4.16e+05</td>\n",
       "</tr>\n",
       "<tr>\n",
       "  <th>Market_Rate_Units</th>      <td> 3.364e+04</td> <td> 1.67e+04</td> <td>    2.016</td> <td> 0.045</td> <td>  738.065</td> <td> 6.66e+04</td>\n",
       "</tr>\n",
       "<tr>\n",
       "  <th>Total_Affordable_Units</th> <td>  4.42e+04</td> <td> 1.73e+04</td> <td>    2.554</td> <td> 0.011</td> <td> 1.01e+04</td> <td> 7.83e+04</td>\n",
       "</tr>\n",
       "<tr>\n",
       "  <th>Total_Accessible_Units</th> <td>-6.286e+04</td> <td> 1.76e+04</td> <td>   -3.572</td> <td> 0.000</td> <td>-9.76e+04</td> <td>-2.82e+04</td>\n",
       "</tr>\n",
       "<tr>\n",
       "  <th>Total_Units</th>            <td>-2.135e+04</td> <td> 1.66e+04</td> <td>   -1.288</td> <td> 0.199</td> <td> -5.4e+04</td> <td> 1.13e+04</td>\n",
       "</tr>\n",
       "</table>\n",
       "<table class=\"simpletable\">\n",
       "<tr>\n",
       "  <th>Omnibus:</th>       <td>90.625</td> <th>  Durbin-Watson:     </th> <td>   1.389</td> \n",
       "</tr>\n",
       "<tr>\n",
       "  <th>Prob(Omnibus):</th> <td> 0.000</td> <th>  Jarque-Bera (JB):  </th> <td>1222.692</td> \n",
       "</tr>\n",
       "<tr>\n",
       "  <th>Skew:</th>          <td> 1.312</td> <th>  Prob(JB):          </th> <td>3.13e-266</td>\n",
       "</tr>\n",
       "<tr>\n",
       "  <th>Kurtosis:</th>      <td>14.825</td> <th>  Cond. No.          </th> <td>    103.</td> \n",
       "</tr>\n",
       "</table><br/><br/>Notes:<br/>[1] Standard Errors assume that the covariance matrix of the errors is correctly specified."
      ],
      "text/latex": [
       "\\begin{center}\n",
       "\\begin{tabular}{lclc}\n",
       "\\toprule\n",
       "\\textbf{Dep. Variable:}           &   City\\_Amount   & \\textbf{  R-squared:         } &     0.543   \\\\\n",
       "\\textbf{Model:}                   &       OLS        & \\textbf{  Adj. R-squared:    } &     0.533   \\\\\n",
       "\\textbf{Method:}                  &  Least Squares   & \\textbf{  F-statistic:       } &     57.87   \\\\\n",
       "\\textbf{Date:}                    & Sun, 09 Mar 2025 & \\textbf{  Prob (F-statistic):} &  3.94e-32   \\\\\n",
       "\\textbf{Time:}                    &     13:39:20     & \\textbf{  Log-Likelihood:    } &   -3045.5   \\\\\n",
       "\\textbf{No. Observations:}        &         200      & \\textbf{  AIC:               } &     6101.   \\\\\n",
       "\\textbf{Df Residuals:}            &         195      & \\textbf{  BIC:               } &     6117.   \\\\\n",
       "\\textbf{Df Model:}                &           4      & \\textbf{                     } &             \\\\\n",
       "\\textbf{Covariance Type:}         &    nonrobust     & \\textbf{                     } &             \\\\\n",
       "\\bottomrule\n",
       "\\end{tabular}\n",
       "\\begin{tabular}{lcccccc}\n",
       "                                  & \\textbf{coef} & \\textbf{std err} & \\textbf{t} & \\textbf{P$> |$t$|$} & \\textbf{[0.025} & \\textbf{0.975]}  \\\\\n",
       "\\midrule\n",
       "\\textbf{Intercept}                &    2.597e+05  &     7.94e+04     &     3.272  &         0.001        &     1.03e+05    &     4.16e+05     \\\\\n",
       "\\textbf{Market\\_Rate\\_Units}      &    3.364e+04  &     1.67e+04     &     2.016  &         0.045        &      738.065    &     6.66e+04     \\\\\n",
       "\\textbf{Total\\_Affordable\\_Units} &     4.42e+04  &     1.73e+04     &     2.554  &         0.011        &     1.01e+04    &     7.83e+04     \\\\\n",
       "\\textbf{Total\\_Accessible\\_Units} &   -6.286e+04  &     1.76e+04     &    -3.572  &         0.000        &    -9.76e+04    &    -2.82e+04     \\\\\n",
       "\\textbf{Total\\_Units}             &   -2.135e+04  &     1.66e+04     &    -1.288  &         0.199        &     -5.4e+04    &     1.13e+04     \\\\\n",
       "\\bottomrule\n",
       "\\end{tabular}\n",
       "\\begin{tabular}{lclc}\n",
       "\\textbf{Omnibus:}       & 90.625 & \\textbf{  Durbin-Watson:     } &     1.389  \\\\\n",
       "\\textbf{Prob(Omnibus):} &  0.000 & \\textbf{  Jarque-Bera (JB):  } &  1222.692  \\\\\n",
       "\\textbf{Skew:}          &  1.312 & \\textbf{  Prob(JB):          } & 3.13e-266  \\\\\n",
       "\\textbf{Kurtosis:}      & 14.825 & \\textbf{  Cond. No.          } &      103.  \\\\\n",
       "\\bottomrule\n",
       "\\end{tabular}\n",
       "%\\caption{OLS Regression Results}\n",
       "\\end{center}\n",
       "\n",
       "Notes: \\newline\n",
       " [1] Standard Errors assume that the covariance matrix of the errors is correctly specified."
      ],
      "text/plain": [
       "<class 'statsmodels.iolib.summary.Summary'>\n",
       "\"\"\"\n",
       "                            OLS Regression Results                            \n",
       "==============================================================================\n",
       "Dep. Variable:            City_Amount   R-squared:                       0.543\n",
       "Model:                            OLS   Adj. R-squared:                  0.533\n",
       "Method:                 Least Squares   F-statistic:                     57.87\n",
       "Date:                Sun, 09 Mar 2025   Prob (F-statistic):           3.94e-32\n",
       "Time:                        13:39:20   Log-Likelihood:                -3045.5\n",
       "No. Observations:                 200   AIC:                             6101.\n",
       "Df Residuals:                     195   BIC:                             6117.\n",
       "Df Model:                           4                                         \n",
       "Covariance Type:            nonrobust                                         \n",
       "==========================================================================================\n",
       "                             coef    std err          t      P>|t|      [0.025      0.975]\n",
       "------------------------------------------------------------------------------------------\n",
       "Intercept               2.597e+05   7.94e+04      3.272      0.001    1.03e+05    4.16e+05\n",
       "Market_Rate_Units       3.364e+04   1.67e+04      2.016      0.045     738.065    6.66e+04\n",
       "Total_Affordable_Units   4.42e+04   1.73e+04      2.554      0.011    1.01e+04    7.83e+04\n",
       "Total_Accessible_Units -6.286e+04   1.76e+04     -3.572      0.000   -9.76e+04   -2.82e+04\n",
       "Total_Units            -2.135e+04   1.66e+04     -1.288      0.199    -5.4e+04    1.13e+04\n",
       "==============================================================================\n",
       "Omnibus:                       90.625   Durbin-Watson:                   1.389\n",
       "Prob(Omnibus):                  0.000   Jarque-Bera (JB):             1222.692\n",
       "Skew:                           1.312   Prob(JB):                    3.13e-266\n",
       "Kurtosis:                      14.825   Cond. No.                         103.\n",
       "==============================================================================\n",
       "\n",
       "Notes:\n",
       "[1] Standard Errors assume that the covariance matrix of the errors is correctly specified.\n",
       "\"\"\""
      ]
     },
     "execution_count": 191,
     "metadata": {},
     "output_type": "execute_result"
    }
   ],
   "source": [
    "model = smf.ols('City_Amount ~ Market_Rate_Units + Total_Affordable_Units + Total_Accessible_Units + Total_Units', data=train).fit()\n",
    "model.summary()"
   ]
  },
  {
   "cell_type": "markdown",
   "id": "9e3814c5-2848-4825-a20e-f9a7e90790fe",
   "metadata": {},
   "source": [
    "Total_Units is statistically insignificant."
   ]
  },
  {
   "cell_type": "markdown",
   "id": "91639108-d0c3-435d-8953-54f061d4d2ea",
   "metadata": {},
   "source": [
    "### b)\n",
    "\n",
    "Print the test RMSE of the model created in Part a. This will be used for comparison in the following parts of this question. **(1 point)**"
   ]
  },
  {
   "cell_type": "code",
   "execution_count": 195,
   "id": "6eb50351-40d9-4d6c-b5af-5461b7cc5e63",
   "metadata": {},
   "outputs": [
    {
     "name": "stdout",
     "output_type": "stream",
     "text": [
      " RMSE:  816092.4425553235\n"
     ]
    }
   ],
   "source": [
    "pred = model.predict(test)\n",
    "print(f' RMSE:  {np.sqrt(np.mean((test.City_Amount - pred)**2))}')"
   ]
  },
  {
   "cell_type": "markdown",
   "id": "e4ca5da6-151c-4016-a8d2-de58bef6c07e",
   "metadata": {},
   "source": [
    "### c)\n",
    "\n",
    "To dive deeper into the statistical significance of the four predictors, create their correlation matrix first. **(1 point)** How many pairs seem to be highly  correlated? (Define high correlation as the coefficient above 0.5.) **(1 point)** Why is this matrix not useful to detect multicollinearity in the model? **(2 points)**"
   ]
  },
  {
   "cell_type": "code",
   "execution_count": 198,
   "id": "02516c03-0d82-4918-a58e-e2273084989e",
   "metadata": {},
   "outputs": [
    {
     "data": {
      "text/html": [
       "<div>\n",
       "<style scoped>\n",
       "    .dataframe tbody tr th:only-of-type {\n",
       "        vertical-align: middle;\n",
       "    }\n",
       "\n",
       "    .dataframe tbody tr th {\n",
       "        vertical-align: top;\n",
       "    }\n",
       "\n",
       "    .dataframe thead th {\n",
       "        text-align: right;\n",
       "    }\n",
       "</style>\n",
       "<table border=\"1\" class=\"dataframe\">\n",
       "  <thead>\n",
       "    <tr style=\"text-align: right;\">\n",
       "      <th></th>\n",
       "      <th>Market_Rate_Units</th>\n",
       "      <th>Total_Affordable_Units</th>\n",
       "      <th>Total_Accessible_Units</th>\n",
       "      <th>Total_Units</th>\n",
       "    </tr>\n",
       "  </thead>\n",
       "  <tbody>\n",
       "    <tr>\n",
       "      <th>Market_Rate_Units</th>\n",
       "      <td>1.000000</td>\n",
       "      <td>0.272216</td>\n",
       "      <td>0.275496</td>\n",
       "      <td>0.627616</td>\n",
       "    </tr>\n",
       "    <tr>\n",
       "      <th>Total_Affordable_Units</th>\n",
       "      <td>0.272216</td>\n",
       "      <td>1.000000</td>\n",
       "      <td>0.686937</td>\n",
       "      <td>0.917180</td>\n",
       "    </tr>\n",
       "    <tr>\n",
       "      <th>Total_Accessible_Units</th>\n",
       "      <td>0.275496</td>\n",
       "      <td>0.686937</td>\n",
       "      <td>1.000000</td>\n",
       "      <td>0.654937</td>\n",
       "    </tr>\n",
       "    <tr>\n",
       "      <th>Total_Units</th>\n",
       "      <td>0.627616</td>\n",
       "      <td>0.917180</td>\n",
       "      <td>0.654937</td>\n",
       "      <td>1.000000</td>\n",
       "    </tr>\n",
       "  </tbody>\n",
       "</table>\n",
       "</div>"
      ],
      "text/plain": [
       "                        Market_Rate_Units  Total_Affordable_Units  \\\n",
       "Market_Rate_Units                1.000000                0.272216   \n",
       "Total_Affordable_Units           0.272216                1.000000   \n",
       "Total_Accessible_Units           0.275496                0.686937   \n",
       "Total_Units                      0.627616                0.917180   \n",
       "\n",
       "                        Total_Accessible_Units  Total_Units  \n",
       "Market_Rate_Units                     0.275496     0.627616  \n",
       "Total_Affordable_Units                0.686937     0.917180  \n",
       "Total_Accessible_Units                1.000000     0.654937  \n",
       "Total_Units                           0.654937     1.000000  "
      ]
     },
     "execution_count": 198,
     "metadata": {},
     "output_type": "execute_result"
    }
   ],
   "source": [
    "train[['Market_Rate_Units', 'Total_Affordable_Units', 'Total_Accessible_Units', 'Total_Units']].corr(numeric_only=True)"
   ]
  },
  {
   "cell_type": "markdown",
   "id": "8d7a1b26-2831-4f27-bc74-d99d7ce5f47e",
   "metadata": {},
   "source": [
    "There appear to be 3 highly correlated pairs: 1) Total_Affordable_Units & Total_Accessible_Units, 2) Total_Affordable_Units & Total_Units, and 3) Market_Rate_Units & Total_Units. This is not useful to detect multico. in the model since it only considers pairwise correlations."
   ]
  },
  {
   "cell_type": "markdown",
   "id": "3dd73cee-8577-4768-9f8d-df2263f2725a",
   "metadata": {},
   "source": [
    "### d)\n",
    "\n",
    "Create the Variation Inflation Factor (VIF) table of the predictors. **(1 point)** Is there multicollinearity in the data? **(1 point)**"
   ]
  },
  {
   "cell_type": "code",
   "execution_count": 202,
   "id": "18ddd5a7-97f9-4764-9270-92f87977d45f",
   "metadata": {},
   "outputs": [
    {
     "data": {
      "text/html": [
       "<div>\n",
       "<style scoped>\n",
       "    .dataframe tbody tr th:only-of-type {\n",
       "        vertical-align: middle;\n",
       "    }\n",
       "\n",
       "    .dataframe tbody tr th {\n",
       "        vertical-align: top;\n",
       "    }\n",
       "\n",
       "    .dataframe thead th {\n",
       "        text-align: right;\n",
       "    }\n",
       "</style>\n",
       "<table border=\"1\" class=\"dataframe\">\n",
       "  <thead>\n",
       "    <tr style=\"text-align: right;\">\n",
       "      <th></th>\n",
       "      <th>variable</th>\n",
       "      <th>VIF</th>\n",
       "    </tr>\n",
       "  </thead>\n",
       "  <tbody>\n",
       "    <tr>\n",
       "      <th>0</th>\n",
       "      <td>const</td>\n",
       "      <td>1.245882</td>\n",
       "    </tr>\n",
       "    <tr>\n",
       "      <th>1</th>\n",
       "      <td>Market_Rate_Units</td>\n",
       "      <td>40.571755</td>\n",
       "    </tr>\n",
       "    <tr>\n",
       "      <th>2</th>\n",
       "      <td>Total_Affordable_Units</td>\n",
       "      <td>159.751905</td>\n",
       "    </tr>\n",
       "    <tr>\n",
       "      <th>3</th>\n",
       "      <td>Total_Accessible_Units</td>\n",
       "      <td>2.033927</td>\n",
       "    </tr>\n",
       "    <tr>\n",
       "      <th>4</th>\n",
       "      <td>Total_Units</td>\n",
       "      <td>234.528279</td>\n",
       "    </tr>\n",
       "  </tbody>\n",
       "</table>\n",
       "</div>"
      ],
      "text/plain": [
       "                 variable         VIF\n",
       "0                   const    1.245882\n",
       "1       Market_Rate_Units   40.571755\n",
       "2  Total_Affordable_Units  159.751905\n",
       "3  Total_Accessible_Units    2.033927\n",
       "4             Total_Units  234.528279"
      ]
     },
     "execution_count": 202,
     "metadata": {},
     "output_type": "execute_result"
    }
   ],
   "source": [
    "X = train[['Market_Rate_Units', 'Total_Affordable_Units', 'Total_Accessible_Units', 'Total_Units']]\n",
    "\n",
    "X_const = add_constant(X)\n",
    "\n",
    "vif_data = pd.DataFrame() # empty df\n",
    "vif_data['variable'] = X_const.columns # Put the names in the first col\n",
    "\n",
    "for i in range(len(X_const.columns)):\n",
    "    vif_data.loc[i,'VIF'] = variance_inflation_factor(X_const.values, i)\n",
    "\n",
    "vif_data"
   ]
  },
  {
   "cell_type": "markdown",
   "id": "782d9f6f-2031-4675-9ebd-dbc4b5f90150",
   "metadata": {},
   "source": [
    "Yes - all variables have VIF > 10 besides total_accessible_units."
   ]
  },
  {
   "cell_type": "markdown",
   "id": "5183f809-3f13-427e-bd17-06a343209a47",
   "metadata": {},
   "source": [
    "### e)\n",
    "\n",
    "Remove the predictor with the highest VIF and print the VIF table again. **(1 point)** Is there any multicollinearity left? **(1 point)**"
   ]
  },
  {
   "cell_type": "code",
   "execution_count": 206,
   "id": "f70d9b15-2407-48c7-af91-f2aa8eb36de0",
   "metadata": {},
   "outputs": [
    {
     "data": {
      "text/html": [
       "<div>\n",
       "<style scoped>\n",
       "    .dataframe tbody tr th:only-of-type {\n",
       "        vertical-align: middle;\n",
       "    }\n",
       "\n",
       "    .dataframe tbody tr th {\n",
       "        vertical-align: top;\n",
       "    }\n",
       "\n",
       "    .dataframe thead th {\n",
       "        text-align: right;\n",
       "    }\n",
       "</style>\n",
       "<table border=\"1\" class=\"dataframe\">\n",
       "  <thead>\n",
       "    <tr style=\"text-align: right;\">\n",
       "      <th></th>\n",
       "      <th>variable</th>\n",
       "      <th>VIF</th>\n",
       "    </tr>\n",
       "  </thead>\n",
       "  <tbody>\n",
       "    <tr>\n",
       "      <th>0</th>\n",
       "      <td>const</td>\n",
       "      <td>1.245881</td>\n",
       "    </tr>\n",
       "    <tr>\n",
       "      <th>1</th>\n",
       "      <td>Market_Rate_Units</td>\n",
       "      <td>1.097613</td>\n",
       "    </tr>\n",
       "    <tr>\n",
       "      <th>2</th>\n",
       "      <td>Total_Accessible_Units</td>\n",
       "      <td>1.924340</td>\n",
       "    </tr>\n",
       "    <tr>\n",
       "      <th>3</th>\n",
       "      <td>Total_Affordable_Units</td>\n",
       "      <td>1.920606</td>\n",
       "    </tr>\n",
       "  </tbody>\n",
       "</table>\n",
       "</div>"
      ],
      "text/plain": [
       "                 variable       VIF\n",
       "0                   const  1.245881\n",
       "1       Market_Rate_Units  1.097613\n",
       "2  Total_Accessible_Units  1.924340\n",
       "3  Total_Affordable_Units  1.920606"
      ]
     },
     "execution_count": 206,
     "metadata": {},
     "output_type": "execute_result"
    }
   ],
   "source": [
    "X = train[['Market_Rate_Units', 'Total_Accessible_Units', 'Total_Affordable_Units']]\n",
    "\n",
    "X_const = add_constant(X)\n",
    "\n",
    "vif_data = pd.DataFrame() # empty df\n",
    "vif_data['variable'] = X_const.columns # Put the names in the first col\n",
    "\n",
    "for i in range(len(X_const.columns)):\n",
    "    vif_data.loc[i,'VIF'] = variance_inflation_factor(X_const.values, i)\n",
    "\n",
    "vif_data"
   ]
  },
  {
   "cell_type": "markdown",
   "id": "30a02168-bd43-454c-ba30-c2dec350722d",
   "metadata": {},
   "source": [
    "There is low, acceptable multicollinearity. For the sake of analysis, no."
   ]
  },
  {
   "cell_type": "markdown",
   "id": "3bfbdccf-6e28-4509-9915-089cb0be8858",
   "metadata": {},
   "source": [
    "### f)\n",
    "\n",
    "Recreate and retrain the linear regression model from Part a, this time only using the remaining three predictors from Part e. Print the model summary and the test RMSE. **(2 points)** How did the p-values of the remaining predictors change, compared to the model in Part a? **(1 point)** How about the test RMSE, compared to Part b? **(1 point)** What is the reason behind these changes? **(2 points)**"
   ]
  },
  {
   "cell_type": "code",
   "execution_count": 210,
   "id": "70b61787-5bf4-4098-a34a-ae66129fa909",
   "metadata": {},
   "outputs": [
    {
     "data": {
      "text/html": [
       "<table class=\"simpletable\">\n",
       "<caption>OLS Regression Results</caption>\n",
       "<tr>\n",
       "  <th>Dep. Variable:</th>       <td>City_Amount</td>   <th>  R-squared:         </th> <td>   0.539</td>\n",
       "</tr>\n",
       "<tr>\n",
       "  <th>Model:</th>                   <td>OLS</td>       <th>  Adj. R-squared:    </th> <td>   0.532</td>\n",
       "</tr>\n",
       "<tr>\n",
       "  <th>Method:</th>             <td>Least Squares</td>  <th>  F-statistic:       </th> <td>   76.35</td>\n",
       "</tr>\n",
       "<tr>\n",
       "  <th>Date:</th>             <td>Sun, 09 Mar 2025</td> <th>  Prob (F-statistic):</th> <td>9.37e-33</td>\n",
       "</tr>\n",
       "<tr>\n",
       "  <th>Time:</th>                 <td>13:39:27</td>     <th>  Log-Likelihood:    </th> <td> -3046.3</td>\n",
       "</tr>\n",
       "<tr>\n",
       "  <th>No. Observations:</th>      <td>   200</td>      <th>  AIC:               </th> <td>   6101.</td>\n",
       "</tr>\n",
       "<tr>\n",
       "  <th>Df Residuals:</th>          <td>   196</td>      <th>  BIC:               </th> <td>   6114.</td>\n",
       "</tr>\n",
       "<tr>\n",
       "  <th>Df Model:</th>              <td>     3</td>      <th>                     </th>     <td> </td>   \n",
       "</tr>\n",
       "<tr>\n",
       "  <th>Covariance Type:</th>      <td>nonrobust</td>    <th>                     </th>     <td> </td>   \n",
       "</tr>\n",
       "</table>\n",
       "<table class=\"simpletable\">\n",
       "<tr>\n",
       "             <td></td>               <th>coef</th>     <th>std err</th>      <th>t</th>      <th>P>|t|</th>  <th>[0.025</th>    <th>0.975]</th>  \n",
       "</tr>\n",
       "<tr>\n",
       "  <th>Intercept</th>              <td> 2.596e+05</td> <td> 7.95e+04</td> <td>    3.266</td> <td> 0.001</td> <td> 1.03e+05</td> <td> 4.16e+05</td>\n",
       "</tr>\n",
       "<tr>\n",
       "  <th>Market_Rate_Units</th>      <td> 1.245e+04</td> <td> 2749.012</td> <td>    4.528</td> <td> 0.000</td> <td> 7026.605</td> <td> 1.79e+04</td>\n",
       "</tr>\n",
       "<tr>\n",
       "  <th>Total_Accessible_Units</th> <td> -5.76e+04</td> <td> 1.71e+04</td> <td>   -3.359</td> <td> 0.001</td> <td>-9.14e+04</td> <td>-2.38e+04</td>\n",
       "</tr>\n",
       "<tr>\n",
       "  <th>Total_Affordable_Units</th> <td> 2.205e+04</td> <td> 1900.822</td> <td>   11.599</td> <td> 0.000</td> <td> 1.83e+04</td> <td> 2.58e+04</td>\n",
       "</tr>\n",
       "</table>\n",
       "<table class=\"simpletable\">\n",
       "<tr>\n",
       "  <th>Omnibus:</th>       <td>97.134</td> <th>  Durbin-Watson:     </th> <td>   1.377</td> \n",
       "</tr>\n",
       "<tr>\n",
       "  <th>Prob(Omnibus):</th> <td> 0.000</td> <th>  Jarque-Bera (JB):  </th> <td>1292.399</td> \n",
       "</tr>\n",
       "<tr>\n",
       "  <th>Skew:</th>          <td> 1.456</td> <th>  Prob(JB):          </th> <td>2.29e-281</td>\n",
       "</tr>\n",
       "<tr>\n",
       "  <th>Kurtosis:</th>      <td>15.108</td> <th>  Cond. No.          </th> <td>    65.4</td> \n",
       "</tr>\n",
       "</table><br/><br/>Notes:<br/>[1] Standard Errors assume that the covariance matrix of the errors is correctly specified."
      ],
      "text/latex": [
       "\\begin{center}\n",
       "\\begin{tabular}{lclc}\n",
       "\\toprule\n",
       "\\textbf{Dep. Variable:}           &   City\\_Amount   & \\textbf{  R-squared:         } &     0.539   \\\\\n",
       "\\textbf{Model:}                   &       OLS        & \\textbf{  Adj. R-squared:    } &     0.532   \\\\\n",
       "\\textbf{Method:}                  &  Least Squares   & \\textbf{  F-statistic:       } &     76.35   \\\\\n",
       "\\textbf{Date:}                    & Sun, 09 Mar 2025 & \\textbf{  Prob (F-statistic):} &  9.37e-33   \\\\\n",
       "\\textbf{Time:}                    &     13:39:27     & \\textbf{  Log-Likelihood:    } &   -3046.3   \\\\\n",
       "\\textbf{No. Observations:}        &         200      & \\textbf{  AIC:               } &     6101.   \\\\\n",
       "\\textbf{Df Residuals:}            &         196      & \\textbf{  BIC:               } &     6114.   \\\\\n",
       "\\textbf{Df Model:}                &           3      & \\textbf{                     } &             \\\\\n",
       "\\textbf{Covariance Type:}         &    nonrobust     & \\textbf{                     } &             \\\\\n",
       "\\bottomrule\n",
       "\\end{tabular}\n",
       "\\begin{tabular}{lcccccc}\n",
       "                                  & \\textbf{coef} & \\textbf{std err} & \\textbf{t} & \\textbf{P$> |$t$|$} & \\textbf{[0.025} & \\textbf{0.975]}  \\\\\n",
       "\\midrule\n",
       "\\textbf{Intercept}                &    2.596e+05  &     7.95e+04     &     3.266  &         0.001        &     1.03e+05    &     4.16e+05     \\\\\n",
       "\\textbf{Market\\_Rate\\_Units}      &    1.245e+04  &     2749.012     &     4.528  &         0.000        &     7026.605    &     1.79e+04     \\\\\n",
       "\\textbf{Total\\_Accessible\\_Units} &    -5.76e+04  &     1.71e+04     &    -3.359  &         0.001        &    -9.14e+04    &    -2.38e+04     \\\\\n",
       "\\textbf{Total\\_Affordable\\_Units} &    2.205e+04  &     1900.822     &    11.599  &         0.000        &     1.83e+04    &     2.58e+04     \\\\\n",
       "\\bottomrule\n",
       "\\end{tabular}\n",
       "\\begin{tabular}{lclc}\n",
       "\\textbf{Omnibus:}       & 97.134 & \\textbf{  Durbin-Watson:     } &     1.377  \\\\\n",
       "\\textbf{Prob(Omnibus):} &  0.000 & \\textbf{  Jarque-Bera (JB):  } &  1292.399  \\\\\n",
       "\\textbf{Skew:}          &  1.456 & \\textbf{  Prob(JB):          } & 2.29e-281  \\\\\n",
       "\\textbf{Kurtosis:}      & 15.108 & \\textbf{  Cond. No.          } &      65.4  \\\\\n",
       "\\bottomrule\n",
       "\\end{tabular}\n",
       "%\\caption{OLS Regression Results}\n",
       "\\end{center}\n",
       "\n",
       "Notes: \\newline\n",
       " [1] Standard Errors assume that the covariance matrix of the errors is correctly specified."
      ],
      "text/plain": [
       "<class 'statsmodels.iolib.summary.Summary'>\n",
       "\"\"\"\n",
       "                            OLS Regression Results                            \n",
       "==============================================================================\n",
       "Dep. Variable:            City_Amount   R-squared:                       0.539\n",
       "Model:                            OLS   Adj. R-squared:                  0.532\n",
       "Method:                 Least Squares   F-statistic:                     76.35\n",
       "Date:                Sun, 09 Mar 2025   Prob (F-statistic):           9.37e-33\n",
       "Time:                        13:39:27   Log-Likelihood:                -3046.3\n",
       "No. Observations:                 200   AIC:                             6101.\n",
       "Df Residuals:                     196   BIC:                             6114.\n",
       "Df Model:                           3                                         \n",
       "Covariance Type:            nonrobust                                         \n",
       "==========================================================================================\n",
       "                             coef    std err          t      P>|t|      [0.025      0.975]\n",
       "------------------------------------------------------------------------------------------\n",
       "Intercept               2.596e+05   7.95e+04      3.266      0.001    1.03e+05    4.16e+05\n",
       "Market_Rate_Units       1.245e+04   2749.012      4.528      0.000    7026.605    1.79e+04\n",
       "Total_Accessible_Units  -5.76e+04   1.71e+04     -3.359      0.001   -9.14e+04   -2.38e+04\n",
       "Total_Affordable_Units  2.205e+04   1900.822     11.599      0.000    1.83e+04    2.58e+04\n",
       "==============================================================================\n",
       "Omnibus:                       97.134   Durbin-Watson:                   1.377\n",
       "Prob(Omnibus):                  0.000   Jarque-Bera (JB):             1292.399\n",
       "Skew:                           1.456   Prob(JB):                    2.29e-281\n",
       "Kurtosis:                      15.108   Cond. No.                         65.4\n",
       "==============================================================================\n",
       "\n",
       "Notes:\n",
       "[1] Standard Errors assume that the covariance matrix of the errors is correctly specified.\n",
       "\"\"\""
      ]
     },
     "execution_count": 210,
     "metadata": {},
     "output_type": "execute_result"
    }
   ],
   "source": [
    "model = smf.ols('City_Amount ~ Market_Rate_Units + Total_Accessible_Units + Total_Affordable_Units', data=train).fit()\n",
    "model.summary()"
   ]
  },
  {
   "cell_type": "code",
   "execution_count": 212,
   "id": "2d320dc3-e72f-427f-b0ab-cd418ad7c308",
   "metadata": {},
   "outputs": [
    {
     "name": "stdout",
     "output_type": "stream",
     "text": [
      " RMSE:  806198.4663491294\n"
     ]
    }
   ],
   "source": [
    "pred = model.predict(test)\n",
    "print(f' RMSE:  {np.sqrt(np.mean((test.City_Amount - pred)**2))}')"
   ]
  },
  {
   "cell_type": "markdown",
   "id": "5b09a25b-fe50-4684-9195-f94b3689d098",
   "metadata": {},
   "source": [
    "All p values are < 0.05 now. Test RMSE is also lower than in part a. The model is performing better after addressing the multicollinearity in the predictors."
   ]
  },
  {
   "cell_type": "markdown",
   "id": "b4642faf-7591-4beb-bfc4-4ae82096e880",
   "metadata": {},
   "source": [
    "### g)\n",
    "\n",
    "Now that the problematic predictor is discarded, it is time to clean out the observations. Using the model trained in Part f, find the influential points in the training dataset and filter them out. **(3 points)** How many observations did you discard? **(1 point)**"
   ]
  },
  {
   "cell_type": "code",
   "execution_count": 216,
   "id": "068899fb-5ac4-4917-8ea1-ed9439c5ee94",
   "metadata": {},
   "outputs": [
    {
     "name": "stdout",
     "output_type": "stream",
     "text": [
      "6\n"
     ]
    }
   ],
   "source": [
    "out = model.outlier_test()\n",
    "\n",
    "out \n",
    "N = train.shape[0] \n",
    "df = model.df_model # degrees of freedom in the model\n",
    "alpha=0.05\n",
    "\n",
    "from scipy import stats\n",
    "critical_val = stats.t.ppf(1-alpha/2, N-df-1)\n",
    "\n",
    "\n",
    "influence = model.get_influence()\n",
    "leverage = influence.hat_matrix_diag\n",
    "avg_leverage = (df+1)/N \n",
    "\n",
    "\n",
    "\n",
    "(np.abs(out.student_resid) > critical_val) & (leverage > 4*avg_leverage)\n",
    "\n",
    "print(np.sum((np.abs(out.student_resid) > critical_val) & (leverage > 4*avg_leverage)))\n",
    "\n",
    "train_clean = train[~((np.abs(out.student_resid) > critical_val) & (leverage > 4*avg_leverage))]"
   ]
  },
  {
   "cell_type": "markdown",
   "id": "c8071422-c961-4d70-a8b3-900bc953d9cb",
   "metadata": {},
   "source": [
    "6 observations discarded."
   ]
  },
  {
   "cell_type": "markdown",
   "id": "34c7a380-8aae-4dc3-8d94-524ce74dcc1e",
   "metadata": {},
   "source": [
    "### h)\n",
    "\n",
    "Recreate and retrain the linear regression model from Part f, using the clean training dataset (with the influential points filtered out). Print the summary and the test RMSE. **(1 point)** How did the R-squared of the model change, compared to the model in Part f? **(1 point)** How about the test RMSE? **(1 point)** What is the reason behind these changes? **(2 points)**"
   ]
  },
  {
   "cell_type": "code",
   "execution_count": 220,
   "id": "4adcdb32-e073-4f6e-b4cc-43a0f55dcfe1",
   "metadata": {},
   "outputs": [
    {
     "name": "stdout",
     "output_type": "stream",
     "text": [
      "                            OLS Regression Results                            \n",
      "==============================================================================\n",
      "Dep. Variable:            City_Amount   R-squared:                       0.646\n",
      "Model:                            OLS   Adj. R-squared:                  0.640\n",
      "Method:                 Least Squares   F-statistic:                     115.5\n",
      "Date:                Sun, 09 Mar 2025   Prob (F-statistic):           1.34e-42\n",
      "Time:                        13:39:32   Log-Likelihood:                -2874.3\n",
      "No. Observations:                 194   AIC:                             5757.\n",
      "Df Residuals:                     190   BIC:                             5770.\n",
      "Df Model:                           3                                         \n",
      "Covariance Type:            nonrobust                                         \n",
      "==========================================================================================\n",
      "                             coef    std err          t      P>|t|      [0.025      0.975]\n",
      "------------------------------------------------------------------------------------------\n",
      "Intercept               1.994e+05    5.3e+04      3.763      0.000    9.49e+04    3.04e+05\n",
      "Market_Rate_Units       1.256e+04   4001.816      3.139      0.002    4667.873    2.05e+04\n",
      "Total_Accessible_Units -2.667e+04   1.47e+04     -1.812      0.072   -5.57e+04    2368.147\n",
      "Total_Affordable_Units  2.137e+04   1602.150     13.339      0.000    1.82e+04    2.45e+04\n",
      "==============================================================================\n",
      "Omnibus:                       99.765   Durbin-Watson:                   1.590\n",
      "Prob(Omnibus):                  0.000   Jarque-Bera (JB):              654.840\n",
      "Skew:                           1.850   Prob(JB):                    6.36e-143\n",
      "Kurtosis:                      11.205   Cond. No.                         54.5\n",
      "==============================================================================\n",
      "\n",
      "Notes:\n",
      "[1] Standard Errors assume that the covariance matrix of the errors is correctly specified.\n",
      " RMSE:  795093.0703917155\n"
     ]
    }
   ],
   "source": [
    "model = smf.ols('City_Amount ~ Market_Rate_Units + Total_Accessible_Units + Total_Affordable_Units', data=train_clean).fit()\n",
    "print(model.summary())\n",
    "\n",
    "\n",
    "pred = model.predict(test)\n",
    "print(f' RMSE:  {np.sqrt(np.mean((test.City_Amount - pred)**2))}')"
   ]
  },
  {
   "cell_type": "markdown",
   "id": "97bb808b-2d7c-43e3-ba26-d0967268c748",
   "metadata": {},
   "source": [
    "R-squared is higher and test RMSE is lower than in the model from part f. This is because discarding influential points improves the prediction performance of the model, and allows the model to better explain the variation in the data."
   ]
  },
  {
   "cell_type": "code",
   "execution_count": null,
   "id": "4ac92ba4-2816-4999-8c52-76b541df0e4f",
   "metadata": {},
   "outputs": [],
   "source": []
  }
 ],
 "metadata": {
  "kernelspec": {
   "display_name": "Python 3 (ipykernel)",
   "language": "python",
   "name": "python3"
  },
  "language_info": {
   "codemirror_mode": {
    "name": "ipython",
    "version": 3
   },
   "file_extension": ".py",
   "mimetype": "text/x-python",
   "name": "python",
   "nbconvert_exporter": "python",
   "pygments_lexer": "ipython3",
   "version": "3.12.4"
  }
 },
 "nbformat": 4,
 "nbformat_minor": 5
}
